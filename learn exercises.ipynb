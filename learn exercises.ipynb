{
 "cells": [
  {
   "cell_type": "raw",
   "metadata": {
    "deletable": true,
    "editable": true
   },
   "source": [
    "Matrix and Gradient Intuitions, Regression and Classification, Multi-Layer Perceptrons, Optimization\n",
    "Computational Graphs, Backpropagation, the Layer Abstraction, Introduction to TensorFlow\n",
    "Images, Text, and Time-Series as Data, Training Neural Networks, Introduction to Keras\n",
    "Spatial Invariance, Convolution, Pooling\n",
    "Modeling Context, Recurrent Layers\n",
    "Attention-Based Models, Transfer Learning, Fine-Tuning\n",
    "Limitations, Interpretibility, Discussion"
   ]
  },
  {
   "cell_type": "code",
   "execution_count": 5,
   "metadata": {
    "collapsed": false,
    "deletable": true,
    "editable": true
   },
   "outputs": [
    {
     "data": {
      "text/plain": [
       "0.3"
      ]
     },
     "execution_count": 5,
     "metadata": {},
     "output_type": "execute_result"
    }
   ],
   "source": [
    "# Multi-Class Accuracy\n",
    "# Implement A(P,Y)≜a.\n",
    "\n",
    "import numpy as np\n",
    "\n",
    "M, C = 10, 4\n",
    "S = np.random.randn(M, C)\n",
    "P = np.exp(S) / np.exp(S).sum(axis=1, keepdims=True)  # predictions\n",
    "Y = np.zeros([M, C])\n",
    "y = np.random.randint(low=0, high=C, size=M)\n",
    "Y[np.arange(M), y] = 1  # insert 1s at each row\n",
    "\n",
    "def A(P, Y):\n",
    "    predicted_classes = P.argmax(axis=1)  # np.argmax(P, axis=1)\n",
    "    actual_classes = Y.argmax(axis=1)  # np.argmax(Y, axis=1)\n",
    "#     return (predicted_classes == actual_classes).mean()\n",
    "    return sum([1 if predicted_classes[i] == actual_classes[i] else 0 for i in range(len(predicted_classes))])/M\n",
    "\n",
    "# def _solve(self, *inputs):\n",
    "#     P, Y = inputs\n",
    "#     c = P.argmax(axis=1) == Y.argmax(axis=1)\n",
    "#     acc = c.mean()\n",
    "#     return acc\n",
    "\n",
    "A(P, Y)"
   ]
  },
  {
   "cell_type": "markdown",
   "metadata": {
    "collapsed": true,
    "deletable": true,
    "editable": true
   },
   "source": [
    "## multi-layer perceptron for multi-class prediction\n",
    "    Have it make predictions\n",
    "    Evaluate its accuracy on input-output pairs\n",
    "    Optimize it via random search\n",
    "    Estimate the gradients of its parameters on an associated loss function\n",
    "    Optimize it via gradient descent"
   ]
  },
  {
   "cell_type": "code",
   "execution_count": 4,
   "metadata": {
    "collapsed": true
   },
   "outputs": [],
   "source": [
    "# http://cs231n.github.io/python-numpy-tutorial/"
   ]
  },
  {
   "cell_type": "code",
   "execution_count": 5,
   "metadata": {
    "collapsed": true
   },
   "outputs": [],
   "source": [
    "# http://cs231n.github.io/classification/"
   ]
  },
  {
   "cell_type": "raw",
   "metadata": {},
   "source": [
    "Xtr, Ytr, Xte, Yte = load_CIFAR10('data/cifar10/') # a magic function we provide\n",
    "# flatten out all images to be one-dimensional\n",
    "Xtr_rows = Xtr.reshape(Xtr.shape[0], 32 * 32 * 3) # Xtr_rows becomes 50000 x 3072\n",
    "Xte_rows = Xte.reshape(Xte.shape[0], 32 * 32 * 3) # Xte_rows becomes 10000 x 3072\n",
    "\n",
    "nn = NearestNeighbor() # create a Nearest Neighbor classifier class\n",
    "nn.train(Xtr_rows, Ytr) # train the classifier on the training images and labels\n",
    "Yte_predict = nn.predict(Xte_rows) # predict labels on the test images\n",
    "# and now print the classification accuracy, which is the average number\n",
    "# of examples that are correctly predicted (i.e. label matches)\n",
    "print 'accuracy: %f' % ( np.mean(Yte_predict == Yte) )"
   ]
  },
  {
   "cell_type": "code",
   "execution_count": 7,
   "metadata": {
    "collapsed": true
   },
   "outputs": [],
   "source": [
    "import numpy as np\n",
    "\n",
    "class NearestNeighbor(object):\n",
    "  def __init__(self):\n",
    "    pass\n",
    "\n",
    "  def train(self, X, y):\n",
    "    \"\"\" X is N x D where each row is an example. Y is 1-dimension of size N \"\"\"\n",
    "    # the nearest neighbor classifier simply remembers all the training data\n",
    "    self.Xtr = X\n",
    "    self.ytr = y\n",
    "\n",
    "  def predict(self, X):\n",
    "    \"\"\" X is N x D where each row is an example we wish to predict label for \"\"\"\n",
    "    num_test = X.shape[0]\n",
    "    # lets make sure that the output type matches the input type\n",
    "    Ypred = np.zeros(num_test, dtype = self.ytr.dtype)\n",
    "\n",
    "    # loop over all test rows\n",
    "    for i in xrange(num_test):\n",
    "      # find the nearest training image to the i'th test image\n",
    "      # using the L1 distance (sum of absolute value differences)\n",
    "      distances = np.sum(np.abs(self.Xtr - X[i,:]), axis = 1)\n",
    "      min_index = np.argmin(distances) # get the index with smallest distance\n",
    "      Ypred[i] = self.ytr[min_index] # predict the label of the nearest example\n",
    "\n",
    "    return Ypred"
   ]
  },
  {
   "cell_type": "code",
   "execution_count": null,
   "metadata": {
    "collapsed": true
   },
   "outputs": [],
   "source": [
    "Preparation Material\n",
    "Source \tTitle \tNotes \tPriority\n",
    "cs229 \tLinear Algebra Review and Reference \tread through Section 2 \tIntroductory\n",
    "cs231n \tnumpy tutorial \t\tIntroductory\n",
    "cs231n \tIntroduction to Classification (video lecture) \t\tIntroductory\n",
    "cs231n \tLinear Classification (video lecture) \t\tRequired\n",
    "cs231n \tOptimization (video lecture) \tread through Strategy #1 Random Search \tRequired\n",
    "cs231n \tOptimization (video lecture) \tread through Computing the gradient - Numerically with finite differences \tRequired\n",
    "Google Slides \tThe Big Picture \t\tOptional"
   ]
  }
 ],
 "metadata": {
  "kernelspec": {
   "display_name": "Python [conda env:dl]",
   "language": "python",
   "name": "conda-env-dl-py"
  },
  "language_info": {
   "codemirror_mode": {
    "name": "ipython",
    "version": 3
   },
   "file_extension": ".py",
   "mimetype": "text/x-python",
   "name": "python",
   "nbconvert_exporter": "python",
   "pygments_lexer": "ipython3",
   "version": "3.6.0"
  }
 },
 "nbformat": 4,
 "nbformat_minor": 2
}
