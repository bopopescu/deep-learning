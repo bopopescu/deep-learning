{
 "cells": [
  {
   "cell_type": "raw",
   "metadata": {
    "deletable": true,
    "editable": true
   },
   "source": [
    "Matrix and Gradient Intuitions, Regression and Classification, Multi-Layer Perceptrons, Optimization\n",
    "Computational Graphs, Backpropagation, the Layer Abstraction, Introduction to TensorFlow\n",
    "Images, Text, and Time-Series as Data, Training Neural Networks, Introduction to Keras\n",
    "Spatial Invariance, Convolution, Pooling\n",
    "Modeling Context, Recurrent Layers\n",
    "Attention-Based Models, Transfer Learning, Fine-Tuning\n",
    "Limitations, Interpretibility, Discussion"
   ]
  },
  {
   "cell_type": "code",
   "execution_count": 5,
   "metadata": {
    "collapsed": false,
    "deletable": true,
    "editable": true
   },
   "outputs": [
    {
     "data": {
      "text/plain": [
       "0.3"
      ]
     },
     "execution_count": 5,
     "metadata": {},
     "output_type": "execute_result"
    }
   ],
   "source": [
    "# Multi-Class Accuracy\n",
    "# Implement A(P,Y)≜a.\n",
    "\n",
    "import numpy as np\n",
    "\n",
    "M, C = 10, 4\n",
    "S = np.random.randn(M, C)\n",
    "P = np.exp(S) / np.exp(S).sum(axis=1, keepdims=True)  # predictions\n",
    "Y = np.zeros([M, C])\n",
    "y = np.random.randint(low=0, high=C, size=M)\n",
    "Y[np.arange(M), y] = 1  # insert 1s at each row\n",
    "\n",
    "def A(P, Y):\n",
    "    predicted_classes = P.argmax(axis=1)  # np.argmax(P, axis=1)\n",
    "    actual_classes = Y.argmax(axis=1)  # np.argmax(Y, axis=1)\n",
    "#     return (predicted_classes == actual_classes).mean()\n",
    "    return sum([1 if predicted_classes[i] == actual_classes[i] else 0 for i in range(len(predicted_classes))])/M\n",
    "\n",
    "# def _solve(self, *inputs):\n",
    "#     P, Y = inputs\n",
    "#     c = P.argmax(axis=1) == Y.argmax(axis=1)\n",
    "#     acc = c.mean()\n",
    "#     return acc\n",
    "\n",
    "A(P, Y)"
   ]
  },
  {
   "cell_type": "code",
   "execution_count": null,
   "metadata": {
    "collapsed": true,
    "deletable": true,
    "editable": true
   },
   "outputs": [],
   "source": []
  }
 ],
 "metadata": {
  "kernelspec": {
   "display_name": "Python [conda env:dl]",
   "language": "python",
   "name": "conda-env-dl-py"
  },
  "language_info": {
   "codemirror_mode": {
    "name": "ipython",
    "version": 3
   },
   "file_extension": ".py",
   "mimetype": "text/x-python",
   "name": "python",
   "nbconvert_exporter": "python",
   "pygments_lexer": "ipython3",
   "version": "3.6.0"
  }
 },
 "nbformat": 4,
 "nbformat_minor": 2
}
