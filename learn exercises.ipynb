{
 "cells": [
  {
   "cell_type": "raw",
   "metadata": {},
   "source": [
    "Matrix and Gradient Intuitions, Regression and Classification, Multi-Layer Perceptrons, Optimization\n",
    "Computational Graphs, Backpropagation, the Layer Abstraction, Introduction to TensorFlow\n",
    "Images, Text, and Time-Series as Data, Training Neural Networks, Introduction to Keras\n",
    "Spatial Invariance, Convolution, Pooling\n",
    "Modeling Context, Recurrent Layers\n",
    "Attention-Based Models, Transfer Learning, Fine-Tuning\n",
    "Limitations, Interpretibility, Discussion"
   ]
  },
  {
   "cell_type": "code",
   "execution_count": null,
   "metadata": {
    "collapsed": true
   },
   "outputs": [],
   "source": []
  }
 ],
 "metadata": {
  "kernelspec": {
   "display_name": "Python 3",
   "language": "python",
   "name": "python3"
  },
  "language_info": {
   "codemirror_mode": {
    "name": "ipython",
    "version": 3
   },
   "file_extension": ".py",
   "mimetype": "text/x-python",
   "name": "python",
   "nbconvert_exporter": "python",
   "pygments_lexer": "ipython3",
   "version": "3.6.2"
  }
 },
 "nbformat": 4,
 "nbformat_minor": 2
}
