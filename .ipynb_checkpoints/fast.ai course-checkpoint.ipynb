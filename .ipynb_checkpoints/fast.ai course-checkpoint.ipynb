{
 "cells": [
  {
   "cell_type": "code",
   "execution_count": 3,
   "metadata": {
    "scrolled": false
   },
   "outputs": [],
   "source": [
    "%matplotlib inline\n",
    "%reload_ext autoreload\n",
    "%autoreload 2"
   ]
  },
  {
   "cell_type": "markdown",
   "metadata": {},
   "source": [
    "# notes on fast.ai course\n",
    "- https://course.fast.ai/\n",
    "- https://course.fast.ai/start_gcp.html"
   ]
  },
  {
   "cell_type": "markdown",
   "metadata": {},
   "source": [
    "```console\n",
    "export IMAGE_FAMILY=\"pytorch-latest-gpu\"\n",
    "export ZONE=\"us-west1-b\"\n",
    "export INSTANCE_NAME=\"oliver\"\n",
    "export INSTANCE_TYPE=\"n1-highmem-8\"\n",
    "\n",
    "gcloud compute instances create $INSTANCE_NAME \\\n",
    "        --zone=$ZONE \\\n",
    "        --image-family=$IMAGE_FAMILY \\\n",
    "        --image-project=deeplearning-platform-release \\\n",
    "        --maintenance-policy=TERMINATE \\\n",
    "        --accelerator=\"type=nvidia-tesla-p100,count=1\" \\\n",
    "        --machine-type=$INSTANCE_TYPE \\\n",
    "        --boot-disk-size=200GB \\\n",
    "        --metadata=\"install-nvidia-driver=True\"\n",
    "```"
   ]
  },
  {
   "cell_type": "raw",
   "metadata": {},
   "source": [
    "gcloud compute ssh --zone=us-west1-b jupyter@$oliver -- -L 8080:localhost:8080\n",
    "http://localhost:8080/tree/tutorials/fastai/course-v3"
   ]
  },
  {
   "cell_type": "code",
   "execution_count": null,
   "metadata": {},
   "outputs": [],
   "source": []
  }
 ],
 "metadata": {
  "kernelspec": {
   "display_name": "Python 3",
   "language": "python",
   "name": "python3"
  },
  "language_info": {
   "codemirror_mode": {
    "name": "ipython",
    "version": 3
   },
   "file_extension": ".py",
   "mimetype": "text/x-python",
   "name": "python",
   "nbconvert_exporter": "python",
   "pygments_lexer": "ipython3",
   "version": "3.7.4"
  }
 },
 "nbformat": 4,
 "nbformat_minor": 2
}
