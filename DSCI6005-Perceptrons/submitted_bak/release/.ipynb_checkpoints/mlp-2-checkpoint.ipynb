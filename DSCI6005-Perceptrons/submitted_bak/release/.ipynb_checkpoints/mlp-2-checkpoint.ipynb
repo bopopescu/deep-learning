{
 "cells": [
  {
   "cell_type": "markdown",
   "metadata": {
    "deletable": false,
    "editable": false,
    "nbgrader": {
     "checksum": "2bec14f7a4587b8c3839ad05aa5efb5c",
     "grade": false,
     "grade_id": "autograder_description",
     "locked": true,
     "schema_version": 1,
     "solution": false
    }
   },
   "source": [
    "# Autograder Variables\n",
    "\n",
    "The following code cell defines autograder-specific variables. Execute it and move on.\n",
    "\n",
    "- INDUS proportion of non-retail business acres per town\n",
    "- AGE proportion of owner-occupied units built prior to 1940"
   ]
  },
  {
   "cell_type": "code",
   "execution_count": 1,
   "metadata": {
    "deletable": false,
    "editable": false,
    "nbgrader": {
     "checksum": "c2282ee45182974e7776ad1712a396cc",
     "grade": false,
     "grade_id": "autograder_code",
     "locked": true,
     "schema_version": 1,
     "solution": false
    },
    "scrolled": false
   },
   "outputs": [
    {
     "name": "stderr",
     "output_type": "stream",
     "text": [
      "Using TensorFlow backend.\n"
     ]
    },
    {
     "data": {
      "text/html": [
       "<div>\n",
       "<style>\n",
       "    .dataframe thead tr:only-child th {\n",
       "        text-align: right;\n",
       "    }\n",
       "\n",
       "    .dataframe thead th {\n",
       "        text-align: left;\n",
       "    }\n",
       "\n",
       "    .dataframe tbody tr th {\n",
       "        vertical-align: top;\n",
       "    }\n",
       "</style>\n",
       "<table border=\"1\" class=\"dataframe\">\n",
       "  <thead>\n",
       "    <tr style=\"text-align: right;\">\n",
       "      <th></th>\n",
       "      <th>INDUS</th>\n",
       "      <th>AGE</th>\n",
       "      <th></th>\n",
       "      <th>COST</th>\n",
       "    </tr>\n",
       "  </thead>\n",
       "  <tbody>\n",
       "    <tr>\n",
       "      <th>0</th>\n",
       "      <td>1.028326</td>\n",
       "      <td>-1.028832</td>\n",
       "      <td></td>\n",
       "      <td>1</td>\n",
       "    </tr>\n",
       "    <tr>\n",
       "      <th>1</th>\n",
       "      <td>-1.136936</td>\n",
       "      <td>-1.358509</td>\n",
       "      <td></td>\n",
       "      <td>1</td>\n",
       "    </tr>\n",
       "    <tr>\n",
       "      <th>2</th>\n",
       "      <td>-0.177047</td>\n",
       "      <td>0.275544</td>\n",
       "      <td></td>\n",
       "      <td>1</td>\n",
       "    </tr>\n",
       "    <tr>\n",
       "      <th>3</th>\n",
       "      <td>1.028326</td>\n",
       "      <td>0.988651</td>\n",
       "      <td></td>\n",
       "      <td>3</td>\n",
       "    </tr>\n",
       "    <tr>\n",
       "      <th>4</th>\n",
       "      <td>-1.408880</td>\n",
       "      <td>-1.161419</td>\n",
       "      <td></td>\n",
       "      <td>1</td>\n",
       "    </tr>\n",
       "    <tr>\n",
       "      <th>5</th>\n",
       "      <td>-1.270703</td>\n",
       "      <td>0.512052</td>\n",
       "      <td></td>\n",
       "      <td>1</td>\n",
       "    </tr>\n",
       "    <tr>\n",
       "      <th>6</th>\n",
       "      <td>-1.048738</td>\n",
       "      <td>0.558637</td>\n",
       "      <td></td>\n",
       "      <td>2</td>\n",
       "    </tr>\n",
       "    <tr>\n",
       "      <th>7</th>\n",
       "      <td>-1.438279</td>\n",
       "      <td>-1.021665</td>\n",
       "      <td></td>\n",
       "      <td>0</td>\n",
       "    </tr>\n",
       "    <tr>\n",
       "      <th>8</th>\n",
       "      <td>-0.972300</td>\n",
       "      <td>-0.856826</td>\n",
       "      <td></td>\n",
       "      <td>2</td>\n",
       "    </tr>\n",
       "    <tr>\n",
       "      <th>9</th>\n",
       "      <td>-0.075620</td>\n",
       "      <td>-0.355143</td>\n",
       "      <td></td>\n",
       "      <td>2</td>\n",
       "    </tr>\n",
       "    <tr>\n",
       "      <th>10</th>\n",
       "      <td>-0.869402</td>\n",
       "      <td>-0.337226</td>\n",
       "      <td></td>\n",
       "      <td>1</td>\n",
       "    </tr>\n",
       "    <tr>\n",
       "      <th>11</th>\n",
       "      <td>1.028326</td>\n",
       "      <td>0.981484</td>\n",
       "      <td></td>\n",
       "      <td>3</td>\n",
       "    </tr>\n",
       "    <tr>\n",
       "      <th>12</th>\n",
       "      <td>0.409470</td>\n",
       "      <td>0.576554</td>\n",
       "      <td></td>\n",
       "      <td>1</td>\n",
       "    </tr>\n",
       "    <tr>\n",
       "      <th>13</th>\n",
       "      <td>-0.207917</td>\n",
       "      <td>-1.440929</td>\n",
       "      <td></td>\n",
       "      <td>3</td>\n",
       "    </tr>\n",
       "    <tr>\n",
       "      <th>14</th>\n",
       "      <td>2.138151</td>\n",
       "      <td>1.002985</td>\n",
       "      <td></td>\n",
       "      <td>3</td>\n",
       "    </tr>\n",
       "    <tr>\n",
       "      <th>15</th>\n",
       "      <td>-1.270703</td>\n",
       "      <td>-0.244056</td>\n",
       "      <td></td>\n",
       "      <td>1</td>\n",
       "    </tr>\n",
       "    <tr>\n",
       "      <th>16</th>\n",
       "      <td>-0.374023</td>\n",
       "      <td>0.820229</td>\n",
       "      <td></td>\n",
       "      <td>3</td>\n",
       "    </tr>\n",
       "    <tr>\n",
       "      <th>17</th>\n",
       "      <td>-1.048738</td>\n",
       "      <td>-0.222555</td>\n",
       "      <td></td>\n",
       "      <td>1</td>\n",
       "    </tr>\n",
       "    <tr>\n",
       "      <th>18</th>\n",
       "      <td>1.245881</td>\n",
       "      <td>1.110488</td>\n",
       "      <td></td>\n",
       "      <td>3</td>\n",
       "    </tr>\n",
       "    <tr>\n",
       "      <th>19</th>\n",
       "      <td>-0.720935</td>\n",
       "      <td>0.626722</td>\n",
       "      <td></td>\n",
       "      <td>0</td>\n",
       "    </tr>\n",
       "    <tr>\n",
       "      <th>20</th>\n",
       "      <td>-0.547479</td>\n",
       "      <td>-0.906994</td>\n",
       "      <td></td>\n",
       "      <td>2</td>\n",
       "    </tr>\n",
       "    <tr>\n",
       "      <th>21</th>\n",
       "      <td>1.245881</td>\n",
       "      <td>0.967150</td>\n",
       "      <td></td>\n",
       "      <td>2</td>\n",
       "    </tr>\n",
       "    <tr>\n",
       "      <th>22</th>\n",
       "      <td>-0.207917</td>\n",
       "      <td>-0.537899</td>\n",
       "      <td></td>\n",
       "      <td>2</td>\n",
       "    </tr>\n",
       "    <tr>\n",
       "      <th>23</th>\n",
       "      <td>1.245881</td>\n",
       "      <td>1.110488</td>\n",
       "      <td></td>\n",
       "      <td>3</td>\n",
       "    </tr>\n",
       "    <tr>\n",
       "      <th>24</th>\n",
       "      <td>-1.142816</td>\n",
       "      <td>-0.691987</td>\n",
       "      <td></td>\n",
       "      <td>0</td>\n",
       "    </tr>\n",
       "    <tr>\n",
       "      <th>25</th>\n",
       "      <td>-0.075620</td>\n",
       "      <td>-0.591651</td>\n",
       "      <td></td>\n",
       "      <td>1</td>\n",
       "    </tr>\n",
       "    <tr>\n",
       "      <th>26</th>\n",
       "      <td>-0.435762</td>\n",
       "      <td>0.899065</td>\n",
       "      <td></td>\n",
       "      <td>2</td>\n",
       "    </tr>\n",
       "    <tr>\n",
       "      <th>27</th>\n",
       "      <td>-0.690066</td>\n",
       "      <td>-0.939245</td>\n",
       "      <td></td>\n",
       "      <td>0</td>\n",
       "    </tr>\n",
       "    <tr>\n",
       "      <th>28</th>\n",
       "      <td>1.028326</td>\n",
       "      <td>1.110488</td>\n",
       "      <td></td>\n",
       "      <td>3</td>\n",
       "    </tr>\n",
       "    <tr>\n",
       "      <th>29</th>\n",
       "      <td>1.028326</td>\n",
       "      <td>1.085404</td>\n",
       "      <td></td>\n",
       "      <td>2</td>\n",
       "    </tr>\n",
       "    <tr>\n",
       "      <th>...</th>\n",
       "      <td>...</td>\n",
       "      <td>...</td>\n",
       "      <td>...</td>\n",
       "      <td>...</td>\n",
       "    </tr>\n",
       "    <tr>\n",
       "      <th>370</th>\n",
       "      <td>-1.207494</td>\n",
       "      <td>0.250460</td>\n",
       "      <td></td>\n",
       "      <td>0</td>\n",
       "    </tr>\n",
       "    <tr>\n",
       "      <th>371</th>\n",
       "      <td>-1.036978</td>\n",
       "      <td>0.157290</td>\n",
       "      <td></td>\n",
       "      <td>0</td>\n",
       "    </tr>\n",
       "    <tr>\n",
       "      <th>372</th>\n",
       "      <td>1.585443</td>\n",
       "      <td>1.045986</td>\n",
       "      <td></td>\n",
       "      <td>3</td>\n",
       "    </tr>\n",
       "    <tr>\n",
       "      <th>373</th>\n",
       "      <td>-0.690066</td>\n",
       "      <td>-1.322675</td>\n",
       "      <td></td>\n",
       "      <td>1</td>\n",
       "    </tr>\n",
       "    <tr>\n",
       "      <th>374</th>\n",
       "      <td>-0.177047</td>\n",
       "      <td>0.483384</td>\n",
       "      <td></td>\n",
       "      <td>0</td>\n",
       "    </tr>\n",
       "    <tr>\n",
       "      <th>375</th>\n",
       "      <td>1.245881</td>\n",
       "      <td>0.486968</td>\n",
       "      <td></td>\n",
       "      <td>2</td>\n",
       "    </tr>\n",
       "    <tr>\n",
       "      <th>376</th>\n",
       "      <td>-0.616568</td>\n",
       "      <td>-1.261756</td>\n",
       "      <td></td>\n",
       "      <td>1</td>\n",
       "    </tr>\n",
       "    <tr>\n",
       "      <th>377</th>\n",
       "      <td>-0.616568</td>\n",
       "      <td>-1.039582</td>\n",
       "      <td></td>\n",
       "      <td>1</td>\n",
       "    </tr>\n",
       "    <tr>\n",
       "      <th>378</th>\n",
       "      <td>-1.408880</td>\n",
       "      <td>-1.100501</td>\n",
       "      <td></td>\n",
       "      <td>0</td>\n",
       "    </tr>\n",
       "    <tr>\n",
       "      <th>379</th>\n",
       "      <td>1.245881</td>\n",
       "      <td>1.110488</td>\n",
       "      <td></td>\n",
       "      <td>0</td>\n",
       "    </tr>\n",
       "    <tr>\n",
       "      <th>380</th>\n",
       "      <td>-1.142816</td>\n",
       "      <td>-0.161637</td>\n",
       "      <td></td>\n",
       "      <td>0</td>\n",
       "    </tr>\n",
       "    <tr>\n",
       "      <th>381</th>\n",
       "      <td>-0.435762</td>\n",
       "      <td>-0.448313</td>\n",
       "      <td></td>\n",
       "      <td>1</td>\n",
       "    </tr>\n",
       "    <tr>\n",
       "      <th>382</th>\n",
       "      <td>-0.435762</td>\n",
       "      <td>0.762894</td>\n",
       "      <td></td>\n",
       "      <td>2</td>\n",
       "    </tr>\n",
       "    <tr>\n",
       "      <th>383</th>\n",
       "      <td>1.028326</td>\n",
       "      <td>0.314962</td>\n",
       "      <td></td>\n",
       "      <td>3</td>\n",
       "    </tr>\n",
       "    <tr>\n",
       "      <th>384</th>\n",
       "      <td>-0.917911</td>\n",
       "      <td>0.049787</td>\n",
       "      <td></td>\n",
       "      <td>1</td>\n",
       "    </tr>\n",
       "    <tr>\n",
       "      <th>385</th>\n",
       "      <td>1.028326</td>\n",
       "      <td>1.110488</td>\n",
       "      <td></td>\n",
       "      <td>3</td>\n",
       "    </tr>\n",
       "    <tr>\n",
       "      <th>386</th>\n",
       "      <td>-0.435762</td>\n",
       "      <td>0.899065</td>\n",
       "      <td></td>\n",
       "      <td>3</td>\n",
       "    </tr>\n",
       "    <tr>\n",
       "      <th>387</th>\n",
       "      <td>-0.043280</td>\n",
       "      <td>-1.845858</td>\n",
       "      <td></td>\n",
       "      <td>1</td>\n",
       "    </tr>\n",
       "    <tr>\n",
       "      <th>388</th>\n",
       "      <td>1.028326</td>\n",
       "      <td>0.795145</td>\n",
       "      <td></td>\n",
       "      <td>3</td>\n",
       "    </tr>\n",
       "    <tr>\n",
       "      <th>389</th>\n",
       "      <td>-0.720935</td>\n",
       "      <td>0.422466</td>\n",
       "      <td></td>\n",
       "      <td>1</td>\n",
       "    </tr>\n",
       "    <tr>\n",
       "      <th>390</th>\n",
       "      <td>-1.036978</td>\n",
       "      <td>0.540720</td>\n",
       "      <td></td>\n",
       "      <td>1</td>\n",
       "    </tr>\n",
       "    <tr>\n",
       "      <th>391</th>\n",
       "      <td>-0.547479</td>\n",
       "      <td>-0.684820</td>\n",
       "      <td></td>\n",
       "      <td>1</td>\n",
       "    </tr>\n",
       "    <tr>\n",
       "      <th>392</th>\n",
       "      <td>1.245881</td>\n",
       "      <td>0.680474</td>\n",
       "      <td></td>\n",
       "      <td>2</td>\n",
       "    </tr>\n",
       "    <tr>\n",
       "      <th>393</th>\n",
       "      <td>-0.435762</td>\n",
       "      <td>0.709142</td>\n",
       "      <td></td>\n",
       "      <td>3</td>\n",
       "    </tr>\n",
       "    <tr>\n",
       "      <th>394</th>\n",
       "      <td>-1.303042</td>\n",
       "      <td>-0.774407</td>\n",
       "      <td></td>\n",
       "      <td>0</td>\n",
       "    </tr>\n",
       "    <tr>\n",
       "      <th>395</th>\n",
       "      <td>1.028326</td>\n",
       "      <td>1.110488</td>\n",
       "      <td></td>\n",
       "      <td>3</td>\n",
       "    </tr>\n",
       "    <tr>\n",
       "      <th>396</th>\n",
       "      <td>1.028326</td>\n",
       "      <td>0.802312</td>\n",
       "      <td></td>\n",
       "      <td>2</td>\n",
       "    </tr>\n",
       "    <tr>\n",
       "      <th>397</th>\n",
       "      <td>-1.126646</td>\n",
       "      <td>-1.000164</td>\n",
       "      <td></td>\n",
       "      <td>0</td>\n",
       "    </tr>\n",
       "    <tr>\n",
       "      <th>398</th>\n",
       "      <td>-0.869402</td>\n",
       "      <td>-1.107668</td>\n",
       "      <td></td>\n",
       "      <td>0</td>\n",
       "    </tr>\n",
       "    <tr>\n",
       "      <th>399</th>\n",
       "      <td>-0.720935</td>\n",
       "      <td>0.153707</td>\n",
       "      <td></td>\n",
       "      <td>0</td>\n",
       "    </tr>\n",
       "  </tbody>\n",
       "</table>\n",
       "<p>400 rows × 4 columns</p>\n",
       "</div>"
      ],
      "text/plain": [
       "        INDUS       AGE     COST\n",
       "0    1.028326 -1.028832        1\n",
       "1   -1.136936 -1.358509        1\n",
       "2   -0.177047  0.275544        1\n",
       "3    1.028326  0.988651        3\n",
       "4   -1.408880 -1.161419        1\n",
       "5   -1.270703  0.512052        1\n",
       "6   -1.048738  0.558637        2\n",
       "7   -1.438279 -1.021665        0\n",
       "8   -0.972300 -0.856826        2\n",
       "9   -0.075620 -0.355143        2\n",
       "10  -0.869402 -0.337226        1\n",
       "11   1.028326  0.981484        3\n",
       "12   0.409470  0.576554        1\n",
       "13  -0.207917 -1.440929        3\n",
       "14   2.138151  1.002985        3\n",
       "15  -1.270703 -0.244056        1\n",
       "16  -0.374023  0.820229        3\n",
       "17  -1.048738 -0.222555        1\n",
       "18   1.245881  1.110488        3\n",
       "19  -0.720935  0.626722        0\n",
       "20  -0.547479 -0.906994        2\n",
       "21   1.245881  0.967150        2\n",
       "22  -0.207917 -0.537899        2\n",
       "23   1.245881  1.110488        3\n",
       "24  -1.142816 -0.691987        0\n",
       "25  -0.075620 -0.591651        1\n",
       "26  -0.435762  0.899065        2\n",
       "27  -0.690066 -0.939245        0\n",
       "28   1.028326  1.110488        3\n",
       "29   1.028326  1.085404        2\n",
       "..        ...       ... ..   ...\n",
       "370 -1.207494  0.250460        0\n",
       "371 -1.036978  0.157290        0\n",
       "372  1.585443  1.045986        3\n",
       "373 -0.690066 -1.322675        1\n",
       "374 -0.177047  0.483384        0\n",
       "375  1.245881  0.486968        2\n",
       "376 -0.616568 -1.261756        1\n",
       "377 -0.616568 -1.039582        1\n",
       "378 -1.408880 -1.100501        0\n",
       "379  1.245881  1.110488        0\n",
       "380 -1.142816 -0.161637        0\n",
       "381 -0.435762 -0.448313        1\n",
       "382 -0.435762  0.762894        2\n",
       "383  1.028326  0.314962        3\n",
       "384 -0.917911  0.049787        1\n",
       "385  1.028326  1.110488        3\n",
       "386 -0.435762  0.899065        3\n",
       "387 -0.043280 -1.845858        1\n",
       "388  1.028326  0.795145        3\n",
       "389 -0.720935  0.422466        1\n",
       "390 -1.036978  0.540720        1\n",
       "391 -0.547479 -0.684820        1\n",
       "392  1.245881  0.680474        2\n",
       "393 -0.435762  0.709142        3\n",
       "394 -1.303042 -0.774407        0\n",
       "395  1.028326  1.110488        3\n",
       "396  1.028326  0.802312        2\n",
       "397 -1.126646 -1.000164        0\n",
       "398 -0.869402 -1.107668        0\n",
       "399 -0.720935  0.153707        0\n",
       "\n",
       "[400 rows x 4 columns]"
      ]
     },
     "execution_count": 1,
     "metadata": {},
     "output_type": "execute_result"
    },
    {
     "data": {
      "image/png": "[encoded data removed]",
      "text/plain": [
       "<matplotlib.figure.Figure at 0x1164e5080>"
      ]
     },
     "metadata": {},
     "output_type": "display_data"
    }
   ],
   "source": [
    "import numpy as np\n",
    "from keras.datasets import boston_housing\n",
    "import numpy as np\n",
    "np.random.seed(42)\n",
    "import pandas as pd\n",
    "from pandas.plotting import scatter_matrix\n",
    "%matplotlib inline\n",
    "\n",
    "def passed(): print('✅')\n",
    "\n",
    "NB_TRAIN = 400\n",
    "[X, y], _ = boston_housing.load_data()\n",
    "X = (X - X.mean(axis=0)) / X.std(axis=0)\n",
    "y = (y - y.mean()) / y.std()\n",
    "\n",
    "X, y = X[:NB_TRAIN], y[:NB_TRAIN]\n",
    "sorted_idxs = np.argsort(y)\n",
    "X, y = X[sorted_idxs], y[sorted_idxs]\n",
    "y = np.hstack([np.full(shape=100, fill_value=i) for i in range(4)])\n",
    "idxs = np.arange(NB_TRAIN)\n",
    "np.random.shuffle(idxs)\n",
    "X, y = X[idxs], y[idxs]\n",
    "\n",
    "X = X[:, [2, 6]]\n",
    "\n",
    "NB_SAMPLE, NB_FEATURE = X.shape\n",
    "classes = np.unique(y)\n",
    "NB_CLASS = len(classes)\n",
    "df = pd.DataFrame(X, columns=['INDUS', 'AGE'])\n",
    "df['COST'] = y\n",
    "scatter_matrix(df, diagonal='kde');\n",
    "df[''] = ''\n",
    "df[['INDUS', 'AGE', '', 'COST']]"
   ]
  },
  {
   "cell_type": "markdown",
   "metadata": {
    "deletable": false,
    "editable": false,
    "nbgrader": {
     "checksum": "43e45694abc553cd37f5c99538e85a6c",
     "grade": false,
     "grade_id": "mlp_description",
     "locked": true,
     "schema_version": 1,
     "solution": false
    }
   },
   "source": [
    "# Task\n",
    "\n",
    "- Define a class `MultiLayerPerceptron` which passes the Multi-Layer Perceptron tests"
   ]
  },
  {
   "cell_type": "code",
   "execution_count": 2,
   "metadata": {
    "collapsed": true
   },
   "outputs": [],
   "source": [
    "def _set_random_param(size_W1, size_b1, size_W2, size_b2):\n",
    "    W1 = np.random.randn(size_W1[0],size_W1[1])\n",
    "    b1 = np.random.randn(size_b1[0])\n",
    "    W2 = np.random.randn(size_W2[0], size_W2[1])\n",
    "    b2 = np.random.randn(size_b2[0])\n",
    "    return W1, b1, W2, b2"
   ]
  },
  {
   "cell_type": "code",
   "execution_count": 3,
   "metadata": {
    "collapsed": true
   },
   "outputs": [],
   "source": [
    "!touch classifiers.py"
   ]
  },
  {
   "cell_type": "code",
   "execution_count": 4,
   "metadata": {
    "collapsed": true,
    "deletable": false,
    "nbgrader": {
     "checksum": "c21ec5e306a4fb8927058eb135e44030",
     "grade": false,
     "grade_id": "mlp_solution",
     "locked": false,
     "schema_version": 1,
     "solution": true
    }
   },
   "outputs": [],
   "source": [
    "class MultiLayerPerceptron(object):\n",
    "    def __init__(self, NB_FEATURE, NB_HIDDEN, NB_CLASS):\n",
    "        self.W1, self.b1, self.W2, self.b2 = _set_random_param((NB_FEATURE, NB_HIDDEN), \n",
    "                                                               (NB_HIDDEN,1), \n",
    "                                                               (NB_HIDDEN, NB_CLASS),\n",
    "                                                               (NB_CLASS,1))  \n",
    "        \n",
    "    def _sigmoid(self, S):\n",
    "        return np.exp(S) / np.sum(np.exp(S), axis=1, keepdims=True)\n",
    "    \n",
    "    def _f(self, X, W, b):\n",
    "        return self._sigmoid(np.dot(X,W) + b)\n",
    "    \n",
    "    def predict(self, X):        \n",
    "        for (W, b) in [[self.W1, self.b1],[self.W2, self.b2]]:            \n",
    "            X = self._f(X, W, b)                       \n",
    "        return X\n",
    "    \n",
    "    def evaluate(self, X, y):\n",
    "        return np.mean((self.predict(X)).argmax(axis=1) == y)\n"
   ]
  },
  {
   "cell_type": "code",
   "execution_count": 5,
   "metadata": {
    "collapsed": true
   },
   "outputs": [],
   "source": [
    "import classifiers\n",
    "classifiers.MultiLayerPerceptron = MultiLayerPerceptron"
   ]
  },
  {
   "cell_type": "markdown",
   "metadata": {
    "deletable": false,
    "editable": false,
    "nbgrader": {
     "checksum": "10ffcfb7827eaa3b97abe2ec0de0a71b",
     "grade": false,
     "grade_id": "constructor_blurb",
     "locked": true,
     "schema_version": 1,
     "solution": false
    }
   },
   "source": [
    "# Constructor Tests"
   ]
  },
  {
   "cell_type": "code",
   "execution_count": 6,
   "metadata": {
    "deletable": false,
    "editable": false,
    "nbgrader": {
     "checksum": "e4e1647cd99d2b052fe8fc4bb8cff74d",
     "grade": true,
     "grade_id": "constructor_tests",
     "locked": true,
     "points": 1,
     "schema_version": 1,
     "solution": false
    }
   },
   "outputs": [
    {
     "ename": "NameError",
     "evalue": "name 'NB_FEATURE' is not defined",
     "output_type": "error",
     "traceback": [
      "\u001b[0;31m---------------------------------------------------------------------------\u001b[0m",
      "\u001b[0;31mNameError\u001b[0m                                 Traceback (most recent call last)",
      "\u001b[0;32m<ipython-input-6-dd2c6cebaa0f>\u001b[0m in \u001b[0;36m<module>\u001b[0;34m()\u001b[0m\n\u001b[1;32m      2\u001b[0m \u001b[0;34m\u001b[0m\u001b[0m\n\u001b[1;32m      3\u001b[0m \u001b[0mNB_HIDDEN\u001b[0m \u001b[0;34m=\u001b[0m \u001b[0;36m16\u001b[0m\u001b[0;34m\u001b[0m\u001b[0m\n\u001b[0;32m----> 4\u001b[0;31m \u001b[0mmlp\u001b[0m \u001b[0;34m=\u001b[0m \u001b[0mMultiLayerPerceptron\u001b[0m\u001b[0;34m(\u001b[0m\u001b[0mNB_FEATURE\u001b[0m\u001b[0;34m,\u001b[0m \u001b[0mNB_HIDDEN\u001b[0m\u001b[0;34m,\u001b[0m \u001b[0mNB_CLASS\u001b[0m\u001b[0;34m)\u001b[0m\u001b[0;34m\u001b[0m\u001b[0m\n\u001b[0m\u001b[1;32m      5\u001b[0m \u001b[0;34m\u001b[0m\u001b[0m\n\u001b[1;32m      6\u001b[0m \u001b[0;32massert\u001b[0m \u001b[0mtype\u001b[0m\u001b[0;34m(\u001b[0m\u001b[0mmlp\u001b[0m\u001b[0;34m.\u001b[0m\u001b[0mW1\u001b[0m\u001b[0;34m)\u001b[0m \u001b[0;34m==\u001b[0m \u001b[0mnp\u001b[0m\u001b[0;34m.\u001b[0m\u001b[0mndarray\u001b[0m\u001b[0;34m\u001b[0m\u001b[0m\n",
      "\u001b[0;31mNameError\u001b[0m: name 'NB_FEATURE' is not defined"
     ]
    }
   ],
   "source": [
    "from classifiers import MultiLayerPerceptron\n",
    "\n",
    "NB_HIDDEN = 16\n",
    "mlp = MultiLayerPerceptron(NB_FEATURE, NB_HIDDEN, NB_CLASS)\n",
    "\n",
    "assert type(mlp.W1) == np.ndarray\n",
    "assert mlp.W1.shape == (NB_FEATURE, NB_HIDDEN)\n",
    "assert mlp.W1.dtype == np.float64\n",
    "assert type(mlp.b1) == np.ndarray\n",
    "assert mlp.b1.shape == (NB_HIDDEN,)\n",
    "assert mlp.b1.dtype == np.float64\n",
    "assert type(mlp.W2) == np.ndarray\n",
    "assert mlp.W2.shape == (NB_HIDDEN, NB_CLASS)\n",
    "assert mlp.W2.dtype == np.float64\n",
    "assert mlp.b2.shape == (NB_CLASS,)\n",
    "\n",
    "passed()"
   ]
  },
  {
   "cell_type": "markdown",
   "metadata": {
    "deletable": false,
    "editable": false,
    "nbgrader": {
     "checksum": "babd2512baa9627302e1f422220eea7c",
     "grade": false,
     "grade_id": "predict_blurb",
     "locked": true,
     "schema_version": 1,
     "solution": false
    }
   },
   "source": [
    "# Prediction Test"
   ]
  },
  {
   "cell_type": "code",
   "execution_count": 7,
   "metadata": {
    "deletable": false,
    "editable": false,
    "nbgrader": {
     "checksum": "eefdd38760a7d9894a094ec38eed5cdd",
     "grade": true,
     "grade_id": "predict_tests",
     "locked": true,
     "points": 1,
     "schema_version": 1,
     "solution": false
    }
   },
   "outputs": [
    {
     "name": "stdout",
     "output_type": "stream",
     "text": [
      "✅\n"
     ]
    }
   ],
   "source": [
    "y_pred = mlp.predict(X)\n",
    "assert y_pred.shape == (NB_SAMPLE, NB_CLASS)\n",
    "\n",
    "passed()"
   ]
  },
  {
   "cell_type": "markdown",
   "metadata": {
    "deletable": false,
    "editable": false,
    "nbgrader": {
     "checksum": "82ce71c1bdde881f47489fea5e5edb16",
     "grade": false,
     "grade_id": "evaluation_blurb",
     "locked": true,
     "schema_version": 1,
     "solution": false
    }
   },
   "source": [
    "# Evaluation Test"
   ]
  },
  {
   "cell_type": "code",
   "execution_count": 8,
   "metadata": {
    "deletable": false,
    "editable": false,
    "nbgrader": {
     "checksum": "f5927284fbed760b7f9ccb5a4f4dc9c5",
     "grade": true,
     "grade_id": "evaluation_tests",
     "locked": true,
     "points": 1,
     "schema_version": 1,
     "solution": false
    }
   },
   "outputs": [
    {
     "name": "stdout",
     "output_type": "stream",
     "text": [
      "✅\n"
     ]
    }
   ],
   "source": [
    "acc = mlp.evaluate(X, y)\n",
    "assert type(acc) == np.float64\n",
    "assert 0 <= acc <= 1\n",
    "\n",
    "P = mlp.predict(X)\n",
    "y_pred = P.argmax(axis=1)\n",
    "assert acc == np.mean(y_pred == y)\n",
    "\n",
    "passed()"
   ]
  },
  {
   "cell_type": "markdown",
   "metadata": {
    "deletable": false,
    "nbgrader": {
     "checksum": "49d5cb94fca0de5f76fb6ba4f9b91c28",
     "grade": true,
     "grade_id": "random_description",
     "locked": false,
     "points": 1,
     "schema_version": 1,
     "solution": true
    }
   },
   "source": [
    "YOUR ANSWER HERE"
   ]
  },
  {
   "cell_type": "code",
   "execution_count": 1,
   "metadata": {
    "deletable": false,
    "nbgrader": {
     "checksum": "c0c28a753181a3b9f75b43059b2a6282",
     "grade": false,
     "grade_id": "random_solution",
     "locked": false,
     "schema_version": 1,
     "solution": true
    }
   },
   "outputs": [
    {
     "ename": "NameError",
     "evalue": "name 'MultiLayerPerceptron' is not defined",
     "output_type": "error",
     "traceback": [
      "\u001b[0;31m---------------------------------------------------------------------------\u001b[0m",
      "\u001b[0;31mNameError\u001b[0m                                 Traceback (most recent call last)",
      "\u001b[0;32m<ipython-input-1-a95efbafbebe>\u001b[0m in \u001b[0;36m<module>\u001b[0;34m()\u001b[0m\n\u001b[0;32m----> 1\u001b[0;31m \u001b[0;32mclass\u001b[0m \u001b[0mMultiLayerPerceptronWithRandomOptimizer\u001b[0m\u001b[0;34m(\u001b[0m\u001b[0mMultiLayerPerceptron\u001b[0m\u001b[0;34m)\u001b[0m\u001b[0;34m:\u001b[0m\u001b[0;34m\u001b[0m\u001b[0m\n\u001b[0m\u001b[1;32m      2\u001b[0m \u001b[0;34m\u001b[0m\u001b[0m\n\u001b[1;32m      3\u001b[0m     \u001b[0;32mdef\u001b[0m \u001b[0m__init__\u001b[0m\u001b[0;34m(\u001b[0m\u001b[0mself\u001b[0m\u001b[0;34m,\u001b[0m \u001b[0mNB_FEATURE\u001b[0m\u001b[0;34m,\u001b[0m \u001b[0mNB_HIDDEN\u001b[0m\u001b[0;34m,\u001b[0m \u001b[0mNB_CLASS\u001b[0m\u001b[0;34m)\u001b[0m\u001b[0;34m:\u001b[0m\u001b[0;34m\u001b[0m\u001b[0m\n\u001b[1;32m      4\u001b[0m         \u001b[0mMultiLayerPerceptron\u001b[0m\u001b[0;34m.\u001b[0m\u001b[0m__init__\u001b[0m\u001b[0;34m(\u001b[0m\u001b[0mself\u001b[0m\u001b[0;34m,\u001b[0m \u001b[0mNB_FEATURE\u001b[0m\u001b[0;34m,\u001b[0m \u001b[0mNB_HIDDEN\u001b[0m\u001b[0;34m,\u001b[0m \u001b[0mNB_CLASS\u001b[0m\u001b[0;34m)\u001b[0m\u001b[0;34m\u001b[0m\u001b[0m\n\u001b[1;32m      5\u001b[0m \u001b[0;34m\u001b[0m\u001b[0m\n",
      "\u001b[0;31mNameError\u001b[0m: name 'MultiLayerPerceptron' is not defined"
     ]
    }
   ],
   "source": [
    "class MultiLayerPerceptronWithRandomOptimizer(MultiLayerPerceptron):\n",
    "    \n",
    "    def __init__(self, NB_FEATURE, NB_HIDDEN, NB_CLASS):\n",
    "        MultiLayerPerceptron.__init__(self, NB_FEATURE, NB_HIDDEN, NB_CLASS)\n",
    "        \n",
    "    def _forward(self, X, y):\n",
    "        Y = np.zeros([len(X), NB_CLASS])        \n",
    "        Y[np.arange(len(X)), y] = 1\n",
    "        P = self.predict(X)\n",
    "        return -np.mean([np.sum(y * np.log(p)) for p, y in zip(P, Y)])\n",
    "    \n",
    "    def fit(self, X, y, nb_epoch=1):\n",
    "        for _ in range(nb_epoch):\n",
    "            curr_W1, curr_b1, curr_W2, curr_b2 = self.W1, self.b1, self.W2, self.b2  # Store current parameters\n",
    "            curr_loss = self._forward(X, y)                                          # Store current parameter loss\n",
    "            self.W1, self.b1, self.W2, self.b2 = _set_random_param(self.W1.shape, \n",
    "                                                                   self.b1.shape, \n",
    "                                                                   self.W2.shape, \n",
    "                                                                   self.b2.shape)   # Find new random parameters\n",
    "            if curr_loss < self._forward(X, y):                                     # New parameters give higher loss\n",
    "                self.W1, self.b1, self.W2, self.b2 = curr_W1, curr_b1, curr_W2, curr_b2 # So revert to old parameters\n",
    "\n",
    "        "
   ]
  },
  {
   "cell_type": "code",
   "execution_count": 10,
   "metadata": {
    "collapsed": true
   },
   "outputs": [],
   "source": [
    "classifiers.MultiLayerPerceptronWithRandomOptimizer = MultiLayerPerceptronWithRandomOptimizer"
   ]
  },
  {
   "cell_type": "code",
   "execution_count": 11,
   "metadata": {},
   "outputs": [
    {
     "ename": "AttributeError",
     "evalue": "'MultiLayerPerceptron' object has no attribute '_forward'",
     "output_type": "error",
     "traceback": [
      "\u001b[0;31m---------------------------------------------------------------------------\u001b[0m",
      "\u001b[0;31mAttributeError\u001b[0m                            Traceback (most recent call last)",
      "\u001b[0;32m<ipython-input-11-3301aeae95cd>\u001b[0m in \u001b[0;36m<module>\u001b[0;34m()\u001b[0m\n\u001b[0;32m----> 1\u001b[0;31m \u001b[0mprint\u001b[0m \u001b[0;34m(\u001b[0m\u001b[0;34m\"Accuracy and Loss before ROT\"\u001b[0m\u001b[0;34m,\u001b[0m \u001b[0mmlp\u001b[0m\u001b[0;34m.\u001b[0m\u001b[0mevaluate\u001b[0m\u001b[0;34m(\u001b[0m\u001b[0mX\u001b[0m\u001b[0;34m,\u001b[0m \u001b[0my\u001b[0m\u001b[0;34m)\u001b[0m\u001b[0;34m,\u001b[0m \u001b[0mmlp\u001b[0m\u001b[0;34m.\u001b[0m\u001b[0m_forward\u001b[0m\u001b[0;34m(\u001b[0m\u001b[0mX\u001b[0m\u001b[0;34m,\u001b[0m \u001b[0my\u001b[0m\u001b[0;34m)\u001b[0m\u001b[0;34m)\u001b[0m\u001b[0;34m\u001b[0m\u001b[0m\n\u001b[0m",
      "\u001b[0;31mAttributeError\u001b[0m: 'MultiLayerPerceptron' object has no attribute '_forward'"
     ]
    }
   ],
   "source": [
    "print (\"Accuracy and Loss before ROT\", mlp.evaluate(X, y), mlp._forward(X, y))"
   ]
  },
  {
   "cell_type": "markdown",
   "metadata": {
    "deletable": false,
    "editable": false,
    "nbgrader": {
     "checksum": "984f0e12c1d22bbea376069862fc316d",
     "grade": false,
     "grade_id": "random_blurb",
     "locked": true,
     "schema_version": 1,
     "solution": false
    }
   },
   "source": [
    "# Random Optimizer Test "
   ]
  },
  {
   "cell_type": "code",
   "execution_count": null,
   "metadata": {
    "collapsed": true,
    "deletable": false,
    "editable": false,
    "nbgrader": {
     "checksum": "074cc76758aedca393381d22927229b5",
     "grade": true,
     "grade_id": "random_tests",
     "locked": true,
     "points": 1,
     "schema_version": 1,
     "solution": false
    },
    "scrolled": false
   },
   "outputs": [],
   "source": [
    "from classifiers import MultiLayerPerceptronWithRandomOptimizer\n",
    "\n",
    "mlp = MultiLayerPerceptronWithRandomOptimizer(NB_FEATURE, NB_HIDDEN, NB_CLASS)\n",
    "\n",
    "acc = mlp.evaluate(X, y)\n",
    "for _ in range(1000):\n",
    "    loss = mlp._forward(X, y)\n",
    "    mlp.fit(X, y, nb_epoch=10)\n",
    "    assert mlp._forward(X, y) <= loss\n",
    "    \n",
    "assert mlp.evaluate(X, y) > acc\n",
    "\n",
    "passed()"
   ]
  },
  {
   "cell_type": "code",
   "execution_count": null,
   "metadata": {
    "collapsed": true
   },
   "outputs": [],
   "source": [
    "print (\"Accuracy and Loss after ROT\", mlp.evaluate(X, y), mlp._forward(X, y))"
   ]
  },
  {
   "cell_type": "markdown",
   "metadata": {
    "deletable": false,
    "editable": false,
    "nbgrader": {
     "checksum": "0fb1aa5c341afed71ba506cb5ef2d3e9",
     "grade": false,
     "grade_id": "gd_description",
     "locked": true,
     "schema_version": 1,
     "solution": false
    }
   },
   "source": [
    "# Task\n",
    "\n",
    "- Define a class `MultiLayerPerceptronWithGradientDescentOptimizer` which extends your `classifiers.MultiLayerPerceptron` model with a gradient descent optimizer\n",
    "\n",
    "# Hint\n",
    "\n",
    "- Compute the gradient numerically with finite differences"
   ]
  },
  {
   "cell_type": "code",
   "execution_count": null,
   "metadata": {
    "collapsed": true,
    "deletable": false,
    "nbgrader": {
     "checksum": "fb745fc5063d48e3b2673c6ea249008b",
     "grade": false,
     "grade_id": "gd_solution",
     "locked": false,
     "schema_version": 1,
     "solution": true
    }
   },
   "outputs": [],
   "source": [
    "# YOUR CODE HERE\n",
    "raise NotImplementedError()"
   ]
  },
  {
   "cell_type": "markdown",
   "metadata": {
    "deletable": false,
    "editable": false,
    "nbgrader": {
     "checksum": "dc4a558241a57b994bfb9e750f76125e",
     "grade": false,
     "grade_id": "gd_blurb",
     "locked": true,
     "schema_version": 1,
     "solution": false
    }
   },
   "source": [
    "# Gradient Descent Optimizer Test"
   ]
  },
  {
   "cell_type": "code",
   "execution_count": null,
   "metadata": {
    "collapsed": true,
    "deletable": false,
    "editable": false,
    "nbgrader": {
     "checksum": "980eaf0e16457c0cbd06a8bd1697aac7",
     "grade": true,
     "grade_id": "gd_tests",
     "locked": true,
     "points": 1,
     "schema_version": 1,
     "solution": false
    }
   },
   "outputs": [],
   "source": [
    "from classifiers import MultiLayerPerceptronWithGradientDescentOptimizer\n",
    "\n",
    "mlp = MultiLayerPerceptronWithGradientDescentOptimizer(NB_FEATURE, NB_HIDDEN, NB_CLASS)\n",
    "\n",
    "acc = mlp.evaluate(X, y)\n",
    "loss = mlp._forward(X, y)\n",
    "for _ in range(100):\n",
    "    mlp.fit(X, y, nb_epoch=1)\n",
    "    assert mlp._forward(X, y) < loss\n",
    "    loss = mlp._forward(X, y)\n",
    "    \n",
    "assert mlp.evaluate(X, y) > acc\n",
    "\n",
    "passed()"
   ]
  }
 ],
 "metadata": {
  "kernelspec": {
   "display_name": "Python 3",
   "language": "python",
   "name": "python3"
  },
  "language_info": {
   "codemirror_mode": {
    "name": "ipython",
    "version": 3
   },
   "file_extension": ".py",
   "mimetype": "text/x-python",
   "name": "python",
   "nbconvert_exporter": "python",
   "pygments_lexer": "ipython3",
   "version": "3.6.1"
  }
 },
 "nbformat": 4,
 "nbformat_minor": 2
}
