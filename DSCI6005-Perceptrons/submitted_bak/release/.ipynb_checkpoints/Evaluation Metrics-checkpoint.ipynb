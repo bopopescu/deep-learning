{
 "cells": [
  {
   "cell_type": "code",
   "execution_count": null,
   "metadata": {
    "collapsed": true
   },
   "outputs": [],
   "source": [
    "#Accuracy\n",
    "#https://learn.galvanize.com/cohorts/182/units/2210/content_files/36410"
   ]
  },
  {
   "cell_type": "markdown",
   "metadata": {},
   "source": [
    "\t    y\t           y_hat\t                         acc\n",
    "0\t[0 1 0 0 0 1 0 0 0 1]\t[0 0 0 0 1 0 1 1 1 0]\t0.3\n",
    "1\t[1 0 1 1 1 1 1 1 1 1]\t[0 0 1 1 1 0 1 0 0 0]\t0.5\n",
    "2\t[0 0 1 1 1 1 1 0 1 1]\t[0 1 0 1 0 1 1 0 0 0]\t0.5\n",
    "3\t[0 0 0 0 0 1 1 0 1 1]\t[1 1 0 1 0 1 1 1 0 1]\t0.5\n",
    "4\t[0 1 0 1 0 0 1 0 1 1]\t[1 1 1 1 1 1 1 1 1 0]\t0.4\n",
    "5\t[0 1 1 1 1 1 1 1 1 0]\t[1 0 1 1 0 1 0 1 1 0]\t0.6\n",
    "6\t[1 0 1 0 0 1 1 0 1 1]\t[1 0 0 0 0 0 0 0 0 0]\t0.5\n",
    "7\t[1 0 1 1 1 0 0 0 0 1]\t[0 0 0 0 0 1 0 1 0 1]\t0.4\n",
    "8\t[0 0 1 1 1 0 1 0 0 1]\t[1 0 0 1 1 1 0 0 0 0]\t0.5\n",
    "9\t[0 0 1 0 0 0 1 0 0 1]\t[0 0 0 0 0 1 1 1 0 0]\t0.6\n"
   ]
  },
  {
   "cell_type": "code",
   "execution_count": 31,
   "metadata": {},
   "outputs": [
    {
     "data": {
      "text/plain": [
       "array([0, 1, 1, 0, 0, 1, 1, 1, 1, 0])"
      ]
     },
     "execution_count": 31,
     "metadata": {},
     "output_type": "execute_result"
    }
   ],
   "source": [
    "import numpy as np\n",
    "\n",
    "M = 10\n",
    "y_hat = np.random.randint(low=0, high=2, size=M)\n",
    "\n",
    "y_hat\n"
   ]
  },
  {
   "cell_type": "code",
   "execution_count": 32,
   "metadata": {},
   "outputs": [
    {
     "data": {
      "text/plain": [
       "array([0, 0, 1, 0, 0, 1, 1, 0, 1, 0])"
      ]
     },
     "execution_count": 32,
     "metadata": {},
     "output_type": "execute_result"
    }
   ],
   "source": [
    "y = np.random.randint(low=0, high=2, size=M)\n",
    "\n",
    "y"
   ]
  },
  {
   "cell_type": "code",
   "execution_count": 33,
   "metadata": {
    "collapsed": true
   },
   "outputs": [],
   "source": [
    "def A(y_hat, y):\n",
    "    return np.mean( y_hat == y )\n",
    "    "
   ]
  },
  {
   "cell_type": "code",
   "execution_count": 34,
   "metadata": {},
   "outputs": [
    {
     "data": {
      "text/plain": [
       "0.80000000000000004"
      ]
     },
     "execution_count": 34,
     "metadata": {},
     "output_type": "execute_result"
    }
   ],
   "source": [
    "error = np.mean( y_hat == y )\n",
    "\n",
    "error"
   ]
  },
  {
   "cell_type": "code",
   "execution_count": 8,
   "metadata": {},
   "outputs": [
    {
     "data": {
      "text/plain": [
       "0.69999999999999996"
      ]
     },
     "execution_count": 8,
     "metadata": {},
     "output_type": "execute_result"
    }
   ],
   "source": [
    "# Edward's Learn asked us to define a function/method A as above.\n",
    "#I tried doing it using scikit learn below.\n",
    "#http://scikit-learn.org/stable/modules/model_evaluation.html\n",
    "from sklearn.metrics import accuracy_score\n",
    "\n",
    "accuracy_score(y, y_hat)"
   ]
  },
  {
   "cell_type": "code",
   "execution_count": null,
   "metadata": {
    "collapsed": true
   },
   "outputs": [],
   "source": [
    "#Root Mean Square Error\n"
   ]
  },
  {
   "cell_type": "code",
   "execution_count": 35,
   "metadata": {},
   "outputs": [
    {
     "data": {
      "text/plain": [
       "array([-0.76673003,  0.55316061, -0.21775729, -1.20514002,  1.0809625 ,\n",
       "        0.36604902,  0.1458618 ,  0.41585205, -1.51297796, -0.16605371])"
      ]
     },
     "execution_count": 35,
     "metadata": {},
     "output_type": "execute_result"
    }
   ],
   "source": [
    "import numpy as np\n",
    "\n",
    "M = 10\n",
    "y_hat = np.random.randn(M)\n",
    "\n",
    "y_hat"
   ]
  },
  {
   "cell_type": "code",
   "execution_count": 36,
   "metadata": {},
   "outputs": [
    {
     "data": {
      "text/plain": [
       "array([ 0.48148267,  0.53439064,  0.07769914, -0.44280717, -0.05393061,\n",
       "        0.01446144, -1.29913416,  0.65780214, -0.55645501,  0.24975993])"
      ]
     },
     "execution_count": 36,
     "metadata": {},
     "output_type": "execute_result"
    }
   ],
   "source": [
    "y = np.random.randn(M)\n",
    "\n",
    "y"
   ]
  },
  {
   "cell_type": "code",
   "execution_count": 40,
   "metadata": {},
   "outputs": [
    {
     "name": "stdout",
     "output_type": "stream",
     "text": [
      "0.687053527609\n"
     ]
    }
   ],
   "source": [
    "def R(y_hat, y):\n",
    "    return np.sqrt(((y_hat - y) ** 2)).mean()\n",
    "print (np.sqrt(((y_hat - y) ** 2)).mean())"
   ]
  },
  {
   "cell_type": "code",
   "execution_count": 41,
   "metadata": {},
   "outputs": [
    {
     "name": "stdout",
     "output_type": "stream",
     "text": [
      "rms error is: 0.687053527609\n"
     ]
    }
   ],
   "source": [
    "# https://stackoverflow.com/questions/17197492/root-mean-square-error-in-python\n",
    "rms_val = R(np.array(y), np.array(y_hat))\n",
    "print(\"rms error is: \" + str(rms_val))"
   ]
  },
  {
   "cell_type": "code",
   "execution_count": 42,
   "metadata": {},
   "outputs": [
    {
     "data": {
      "text/plain": [
       "0.68728196447029555"
      ]
     },
     "execution_count": 42,
     "metadata": {},
     "output_type": "execute_result"
    }
   ],
   "source": [
    "from sklearn.metrics import mean_squared_error\n",
    "\n",
    "mean_squared_error(y, y_hat)"
   ]
  }
 ],
 "metadata": {
  "kernelspec": {
   "display_name": "Python 3",
   "language": "python",
   "name": "python3"
  },
  "language_info": {
   "codemirror_mode": {
    "name": "ipython",
    "version": 3
   },
   "file_extension": ".py",
   "mimetype": "text/x-python",
   "name": "python",
   "nbconvert_exporter": "python",
   "pygments_lexer": "ipython3",
   "version": "3.6.1"
  }
 },
 "nbformat": 4,
 "nbformat_minor": 2
}
