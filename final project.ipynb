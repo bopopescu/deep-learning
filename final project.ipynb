{
 "cells": [
  {
   "cell_type": "raw",
   "metadata": {},
   "source": [
    "Written proposal and dataset\n",
    "Non-deep learning baseline performance\n",
    "Overfit deep learning model to a small subset of the training set\n",
    "\n",
    "What was the biggest challenge/obstacle/hurdle?\n",
    "    Data?\n",
    "    Modeling?\n",
    "    Training?\n",
    "If you had two more weeks what would you do?\n",
    "Does it scale?\n",
    "How would you turn your project in a data product?\n",
    "Why does your deep learning model beat your baseline?\n",
    "What are the tradeoffs between your baseline and your deep learning model? Would you put your deep learning model into production over your baseline? Why or why not?\n",
    "What evidence can you provide that your model has generalized correctly?\n",
    "Are your results significant?\n",
    "What hyperparameters mattered? Which didn't?\n",
    "Why did or didn't you use accuracy as your evaluation metric?\n",
    "\n",
    "Datasets\n",
    "    http://deeplearning.net/datasets/\n",
    "    AI datasets: https://medium.com/startup-grind/fueling-the-ai-gold-rush-7ae438505bc2\n",
    "    Kaggle\n",
    "        Datasets: https://www.kaggle.com/datasets\n",
    "        Competitions: https://www.kaggle.com/competitions\n",
    "    https://data.world/\n",
    "    Awesome List of Deep Learning Datasets: https://github.com/ChristosChristofidis/awesome-deep-learning#datasets\n",
    "    http://www.datasciencebowl.com/\n",
    "    http://pr.cs.cornell.edu/deepgrasping/"
   ]
  }
 ],
 "metadata": {
  "kernelspec": {
   "display_name": "Python [conda env:dl]",
   "language": "python",
   "name": "conda-env-dl-py"
  },
  "language_info": {
   "codemirror_mode": {
    "name": "ipython",
    "version": 3
   },
   "file_extension": ".py",
   "mimetype": "text/x-python",
   "name": "python",
   "nbconvert_exporter": "python",
   "pygments_lexer": "ipython3",
   "version": "3.6.0"
  }
 },
 "nbformat": 4,
 "nbformat_minor": 2
}
